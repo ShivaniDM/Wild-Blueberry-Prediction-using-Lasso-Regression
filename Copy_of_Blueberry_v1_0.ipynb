{
  "nbformat": 4,
  "nbformat_minor": 0,
  "metadata": {
    "colab": {
      "name": "Copy of Blueberry v1.0.ipynb",
      "provenance": [],
      "collapsed_sections": []
    },
    "kernelspec": {
      "name": "python3",
      "display_name": "Python 3"
    },
    "language_info": {
      "name": "python"
    }
  },
  "cells": [
    {
      "cell_type": "code",
      "metadata": {
        "id": "_CdqfqO1SM_v"
      },
      "source": [
        "#importing libraries \n",
        "import numpy as np \n",
        "import pandas as pd\n",
        "from sklearn import datasets\n",
        "import matplotlib.pyplot as plt\n",
        "import seaborn as sns\n",
        "plt.style.use('ggplot')\n",
        "\n",
        "from sklearn.model_selection import cross_val_score\n",
        "from sklearn.model_selection import RepeatedKFold\n",
        "from sklearn.linear_model import Lasso"
      ],
      "execution_count": 5,
      "outputs": []
    },
    {
      "cell_type": "code",
      "metadata": {
        "id": "Ho8ZK0kGTrut"
      },
      "source": [
        "#loading the dataset\n",
        "data = pd.read_csv('/content/drive/MyDrive/TMLC/WildBlueberryPollinationSimulationData.csv')"
      ],
      "execution_count": 6,
      "outputs": []
    },
    {
      "cell_type": "code",
      "metadata": {
        "colab": {
          "base_uri": "https://localhost:8080/",
          "height": 217
        },
        "id": "Hy3FpOGAU_s4",
        "outputId": "70aa0fb2-85f2-40c2-95ca-8e63174d39d2"
      },
      "source": [
        "# Preview the first 5 lines of the loaded data \n",
        "data.head()"
      ],
      "execution_count": 7,
      "outputs": [
        {
          "output_type": "execute_result",
          "data": {
            "text/html": [
              "<div>\n",
              "<style scoped>\n",
              "    .dataframe tbody tr th:only-of-type {\n",
              "        vertical-align: middle;\n",
              "    }\n",
              "\n",
              "    .dataframe tbody tr th {\n",
              "        vertical-align: top;\n",
              "    }\n",
              "\n",
              "    .dataframe thead th {\n",
              "        text-align: right;\n",
              "    }\n",
              "</style>\n",
              "<table border=\"1\" class=\"dataframe\">\n",
              "  <thead>\n",
              "    <tr style=\"text-align: right;\">\n",
              "      <th></th>\n",
              "      <th>Row#</th>\n",
              "      <th>clonesize</th>\n",
              "      <th>honeybee</th>\n",
              "      <th>bumbles</th>\n",
              "      <th>andrena</th>\n",
              "      <th>osmia</th>\n",
              "      <th>MaxOfUpperTRange</th>\n",
              "      <th>MinOfUpperTRange</th>\n",
              "      <th>AverageOfUpperTRange</th>\n",
              "      <th>MaxOfLowerTRange</th>\n",
              "      <th>MinOfLowerTRange</th>\n",
              "      <th>AverageOfLowerTRange</th>\n",
              "      <th>RainingDays</th>\n",
              "      <th>AverageRainingDays</th>\n",
              "      <th>fruitset</th>\n",
              "      <th>fruitmass</th>\n",
              "      <th>seeds</th>\n",
              "      <th>yield</th>\n",
              "    </tr>\n",
              "  </thead>\n",
              "  <tbody>\n",
              "    <tr>\n",
              "      <th>0</th>\n",
              "      <td>0</td>\n",
              "      <td>37.5</td>\n",
              "      <td>0.75</td>\n",
              "      <td>0.25</td>\n",
              "      <td>0.25</td>\n",
              "      <td>0.25</td>\n",
              "      <td>86.0</td>\n",
              "      <td>52.0</td>\n",
              "      <td>71.9</td>\n",
              "      <td>62.0</td>\n",
              "      <td>30.0</td>\n",
              "      <td>50.8</td>\n",
              "      <td>16.0</td>\n",
              "      <td>0.26</td>\n",
              "      <td>0.410652</td>\n",
              "      <td>0.408159</td>\n",
              "      <td>31.678898</td>\n",
              "      <td>3813.165795</td>\n",
              "    </tr>\n",
              "    <tr>\n",
              "      <th>1</th>\n",
              "      <td>1</td>\n",
              "      <td>37.5</td>\n",
              "      <td>0.75</td>\n",
              "      <td>0.25</td>\n",
              "      <td>0.25</td>\n",
              "      <td>0.25</td>\n",
              "      <td>86.0</td>\n",
              "      <td>52.0</td>\n",
              "      <td>71.9</td>\n",
              "      <td>62.0</td>\n",
              "      <td>30.0</td>\n",
              "      <td>50.8</td>\n",
              "      <td>1.0</td>\n",
              "      <td>0.10</td>\n",
              "      <td>0.444254</td>\n",
              "      <td>0.425458</td>\n",
              "      <td>33.449385</td>\n",
              "      <td>4947.605663</td>\n",
              "    </tr>\n",
              "    <tr>\n",
              "      <th>2</th>\n",
              "      <td>2</td>\n",
              "      <td>37.5</td>\n",
              "      <td>0.75</td>\n",
              "      <td>0.25</td>\n",
              "      <td>0.25</td>\n",
              "      <td>0.25</td>\n",
              "      <td>94.6</td>\n",
              "      <td>57.2</td>\n",
              "      <td>79.0</td>\n",
              "      <td>68.2</td>\n",
              "      <td>33.0</td>\n",
              "      <td>55.9</td>\n",
              "      <td>16.0</td>\n",
              "      <td>0.26</td>\n",
              "      <td>0.383787</td>\n",
              "      <td>0.399172</td>\n",
              "      <td>30.546306</td>\n",
              "      <td>3866.798965</td>\n",
              "    </tr>\n",
              "    <tr>\n",
              "      <th>3</th>\n",
              "      <td>3</td>\n",
              "      <td>37.5</td>\n",
              "      <td>0.75</td>\n",
              "      <td>0.25</td>\n",
              "      <td>0.25</td>\n",
              "      <td>0.25</td>\n",
              "      <td>94.6</td>\n",
              "      <td>57.2</td>\n",
              "      <td>79.0</td>\n",
              "      <td>68.2</td>\n",
              "      <td>33.0</td>\n",
              "      <td>55.9</td>\n",
              "      <td>1.0</td>\n",
              "      <td>0.10</td>\n",
              "      <td>0.407564</td>\n",
              "      <td>0.408789</td>\n",
              "      <td>31.562586</td>\n",
              "      <td>4303.943030</td>\n",
              "    </tr>\n",
              "    <tr>\n",
              "      <th>4</th>\n",
              "      <td>4</td>\n",
              "      <td>37.5</td>\n",
              "      <td>0.75</td>\n",
              "      <td>0.25</td>\n",
              "      <td>0.25</td>\n",
              "      <td>0.25</td>\n",
              "      <td>86.0</td>\n",
              "      <td>52.0</td>\n",
              "      <td>71.9</td>\n",
              "      <td>62.0</td>\n",
              "      <td>30.0</td>\n",
              "      <td>50.8</td>\n",
              "      <td>24.0</td>\n",
              "      <td>0.39</td>\n",
              "      <td>0.354413</td>\n",
              "      <td>0.382703</td>\n",
              "      <td>28.873714</td>\n",
              "      <td>3436.493543</td>\n",
              "    </tr>\n",
              "  </tbody>\n",
              "</table>\n",
              "</div>"
            ],
            "text/plain": [
              "   Row#  clonesize  honeybee  ...  fruitmass      seeds        yield\n",
              "0     0       37.5      0.75  ...   0.408159  31.678898  3813.165795\n",
              "1     1       37.5      0.75  ...   0.425458  33.449385  4947.605663\n",
              "2     2       37.5      0.75  ...   0.399172  30.546306  3866.798965\n",
              "3     3       37.5      0.75  ...   0.408789  31.562586  4303.943030\n",
              "4     4       37.5      0.75  ...   0.382703  28.873714  3436.493543\n",
              "\n",
              "[5 rows x 18 columns]"
            ]
          },
          "metadata": {
            "tags": []
          },
          "execution_count": 7
        }
      ]
    },
    {
      "cell_type": "code",
      "metadata": {
        "colab": {
          "base_uri": "https://localhost:8080/"
        },
        "id": "3oTwuXydVPc1",
        "outputId": "ac7401f3-269c-4ce1-ba0f-7889fd2f6a7e"
      },
      "source": [
        "data.shape"
      ],
      "execution_count": 8,
      "outputs": [
        {
          "output_type": "execute_result",
          "data": {
            "text/plain": [
              "(777, 18)"
            ]
          },
          "metadata": {
            "tags": []
          },
          "execution_count": 8
        }
      ]
    },
    {
      "cell_type": "code",
      "metadata": {
        "colab": {
          "base_uri": "https://localhost:8080/"
        },
        "id": "11eReKb7VZ_u",
        "outputId": "4bde33c8-a9bc-4171-abff-879c230e4ead"
      },
      "source": [
        "data.columns"
      ],
      "execution_count": 9,
      "outputs": [
        {
          "output_type": "execute_result",
          "data": {
            "text/plain": [
              "Index(['Row#', 'clonesize', 'honeybee', 'bumbles', 'andrena', 'osmia',\n",
              "       'MaxOfUpperTRange', 'MinOfUpperTRange', 'AverageOfUpperTRange',\n",
              "       'MaxOfLowerTRange', 'MinOfLowerTRange', 'AverageOfLowerTRange',\n",
              "       'RainingDays', 'AverageRainingDays', 'fruitset', 'fruitmass', 'seeds',\n",
              "       'yield'],\n",
              "      dtype='object')"
            ]
          },
          "metadata": {
            "tags": []
          },
          "execution_count": 9
        }
      ]
    },
    {
      "cell_type": "code",
      "metadata": {
        "colab": {
          "base_uri": "https://localhost:8080/",
          "height": 307
        },
        "id": "nRWIxu-fViQi",
        "outputId": "90b9c31b-b822-4bd3-b016-5d929f9ae3f3"
      },
      "source": [
        "\n",
        "data.describe().apply(lambda s: s.apply(lambda x: format(x, 'f')))"
      ],
      "execution_count": 10,
      "outputs": [
        {
          "output_type": "execute_result",
          "data": {
            "text/html": [
              "<div>\n",
              "<style scoped>\n",
              "    .dataframe tbody tr th:only-of-type {\n",
              "        vertical-align: middle;\n",
              "    }\n",
              "\n",
              "    .dataframe tbody tr th {\n",
              "        vertical-align: top;\n",
              "    }\n",
              "\n",
              "    .dataframe thead th {\n",
              "        text-align: right;\n",
              "    }\n",
              "</style>\n",
              "<table border=\"1\" class=\"dataframe\">\n",
              "  <thead>\n",
              "    <tr style=\"text-align: right;\">\n",
              "      <th></th>\n",
              "      <th>Row#</th>\n",
              "      <th>clonesize</th>\n",
              "      <th>honeybee</th>\n",
              "      <th>bumbles</th>\n",
              "      <th>andrena</th>\n",
              "      <th>osmia</th>\n",
              "      <th>MaxOfUpperTRange</th>\n",
              "      <th>MinOfUpperTRange</th>\n",
              "      <th>AverageOfUpperTRange</th>\n",
              "      <th>MaxOfLowerTRange</th>\n",
              "      <th>MinOfLowerTRange</th>\n",
              "      <th>AverageOfLowerTRange</th>\n",
              "      <th>RainingDays</th>\n",
              "      <th>AverageRainingDays</th>\n",
              "      <th>fruitset</th>\n",
              "      <th>fruitmass</th>\n",
              "      <th>seeds</th>\n",
              "      <th>yield</th>\n",
              "    </tr>\n",
              "  </thead>\n",
              "  <tbody>\n",
              "    <tr>\n",
              "      <th>count</th>\n",
              "      <td>777.000000</td>\n",
              "      <td>777.000000</td>\n",
              "      <td>777.000000</td>\n",
              "      <td>777.000000</td>\n",
              "      <td>777.000000</td>\n",
              "      <td>777.000000</td>\n",
              "      <td>777.000000</td>\n",
              "      <td>777.000000</td>\n",
              "      <td>777.000000</td>\n",
              "      <td>777.000000</td>\n",
              "      <td>777.000000</td>\n",
              "      <td>777.000000</td>\n",
              "      <td>777.000000</td>\n",
              "      <td>777.000000</td>\n",
              "      <td>777.000000</td>\n",
              "      <td>777.000000</td>\n",
              "      <td>777.000000</td>\n",
              "      <td>777.000000</td>\n",
              "    </tr>\n",
              "    <tr>\n",
              "      <th>mean</th>\n",
              "      <td>388.000000</td>\n",
              "      <td>18.767696</td>\n",
              "      <td>0.417133</td>\n",
              "      <td>0.282389</td>\n",
              "      <td>0.468817</td>\n",
              "      <td>0.562062</td>\n",
              "      <td>82.277091</td>\n",
              "      <td>49.700515</td>\n",
              "      <td>68.723037</td>\n",
              "      <td>59.309395</td>\n",
              "      <td>28.690219</td>\n",
              "      <td>48.613127</td>\n",
              "      <td>18.309292</td>\n",
              "      <td>0.320000</td>\n",
              "      <td>0.502121</td>\n",
              "      <td>0.445983</td>\n",
              "      <td>36.122432</td>\n",
              "      <td>6012.849165</td>\n",
              "    </tr>\n",
              "    <tr>\n",
              "      <th>std</th>\n",
              "      <td>224.444871</td>\n",
              "      <td>6.999063</td>\n",
              "      <td>0.978904</td>\n",
              "      <td>0.066343</td>\n",
              "      <td>0.161052</td>\n",
              "      <td>0.169119</td>\n",
              "      <td>9.193745</td>\n",
              "      <td>5.595769</td>\n",
              "      <td>7.676984</td>\n",
              "      <td>6.647760</td>\n",
              "      <td>3.209547</td>\n",
              "      <td>5.417072</td>\n",
              "      <td>12.124226</td>\n",
              "      <td>0.171279</td>\n",
              "      <td>0.079445</td>\n",
              "      <td>0.040333</td>\n",
              "      <td>4.377889</td>\n",
              "      <td>1356.955318</td>\n",
              "    </tr>\n",
              "    <tr>\n",
              "      <th>min</th>\n",
              "      <td>0.000000</td>\n",
              "      <td>10.000000</td>\n",
              "      <td>0.000000</td>\n",
              "      <td>0.000000</td>\n",
              "      <td>0.000000</td>\n",
              "      <td>0.000000</td>\n",
              "      <td>69.700000</td>\n",
              "      <td>39.000000</td>\n",
              "      <td>58.200000</td>\n",
              "      <td>50.200000</td>\n",
              "      <td>24.300000</td>\n",
              "      <td>41.200000</td>\n",
              "      <td>1.000000</td>\n",
              "      <td>0.060000</td>\n",
              "      <td>0.192732</td>\n",
              "      <td>0.311921</td>\n",
              "      <td>22.079199</td>\n",
              "      <td>1637.704022</td>\n",
              "    </tr>\n",
              "    <tr>\n",
              "      <th>25%</th>\n",
              "      <td>194.000000</td>\n",
              "      <td>12.500000</td>\n",
              "      <td>0.250000</td>\n",
              "      <td>0.250000</td>\n",
              "      <td>0.380000</td>\n",
              "      <td>0.500000</td>\n",
              "      <td>77.400000</td>\n",
              "      <td>46.800000</td>\n",
              "      <td>64.700000</td>\n",
              "      <td>55.800000</td>\n",
              "      <td>27.000000</td>\n",
              "      <td>45.800000</td>\n",
              "      <td>3.770000</td>\n",
              "      <td>0.100000</td>\n",
              "      <td>0.454725</td>\n",
              "      <td>0.416281</td>\n",
              "      <td>33.116091</td>\n",
              "      <td>5124.854901</td>\n",
              "    </tr>\n",
              "    <tr>\n",
              "      <th>50%</th>\n",
              "      <td>388.000000</td>\n",
              "      <td>12.500000</td>\n",
              "      <td>0.250000</td>\n",
              "      <td>0.250000</td>\n",
              "      <td>0.500000</td>\n",
              "      <td>0.630000</td>\n",
              "      <td>86.000000</td>\n",
              "      <td>52.000000</td>\n",
              "      <td>71.900000</td>\n",
              "      <td>62.000000</td>\n",
              "      <td>30.000000</td>\n",
              "      <td>50.800000</td>\n",
              "      <td>16.000000</td>\n",
              "      <td>0.260000</td>\n",
              "      <td>0.508297</td>\n",
              "      <td>0.445587</td>\n",
              "      <td>36.166044</td>\n",
              "      <td>6107.382466</td>\n",
              "    </tr>\n",
              "    <tr>\n",
              "      <th>75%</th>\n",
              "      <td>582.000000</td>\n",
              "      <td>25.000000</td>\n",
              "      <td>0.500000</td>\n",
              "      <td>0.380000</td>\n",
              "      <td>0.630000</td>\n",
              "      <td>0.750000</td>\n",
              "      <td>89.000000</td>\n",
              "      <td>52.000000</td>\n",
              "      <td>71.900000</td>\n",
              "      <td>66.000000</td>\n",
              "      <td>30.000000</td>\n",
              "      <td>50.800000</td>\n",
              "      <td>24.000000</td>\n",
              "      <td>0.390000</td>\n",
              "      <td>0.561297</td>\n",
              "      <td>0.476149</td>\n",
              "      <td>39.239668</td>\n",
              "      <td>7022.189731</td>\n",
              "    </tr>\n",
              "    <tr>\n",
              "      <th>max</th>\n",
              "      <td>776.000000</td>\n",
              "      <td>40.000000</td>\n",
              "      <td>18.430000</td>\n",
              "      <td>0.585000</td>\n",
              "      <td>0.750000</td>\n",
              "      <td>0.750000</td>\n",
              "      <td>94.600000</td>\n",
              "      <td>57.200000</td>\n",
              "      <td>79.000000</td>\n",
              "      <td>68.200000</td>\n",
              "      <td>33.000000</td>\n",
              "      <td>55.900000</td>\n",
              "      <td>34.000000</td>\n",
              "      <td>0.560000</td>\n",
              "      <td>0.652144</td>\n",
              "      <td>0.535660</td>\n",
              "      <td>46.585105</td>\n",
              "      <td>8969.401842</td>\n",
              "    </tr>\n",
              "  </tbody>\n",
              "</table>\n",
              "</div>"
            ],
            "text/plain": [
              "             Row#   clonesize    honeybee  ...   fruitmass       seeds        yield\n",
              "count  777.000000  777.000000  777.000000  ...  777.000000  777.000000   777.000000\n",
              "mean   388.000000   18.767696    0.417133  ...    0.445983   36.122432  6012.849165\n",
              "std    224.444871    6.999063    0.978904  ...    0.040333    4.377889  1356.955318\n",
              "min      0.000000   10.000000    0.000000  ...    0.311921   22.079199  1637.704022\n",
              "25%    194.000000   12.500000    0.250000  ...    0.416281   33.116091  5124.854901\n",
              "50%    388.000000   12.500000    0.250000  ...    0.445587   36.166044  6107.382466\n",
              "75%    582.000000   25.000000    0.500000  ...    0.476149   39.239668  7022.189731\n",
              "max    776.000000   40.000000   18.430000  ...    0.535660   46.585105  8969.401842\n",
              "\n",
              "[8 rows x 18 columns]"
            ]
          },
          "metadata": {
            "tags": []
          },
          "execution_count": 10
        }
      ]
    },
    {
      "cell_type": "code",
      "metadata": {
        "colab": {
          "base_uri": "https://localhost:8080/",
          "height": 427
        },
        "id": "kdso_BPUV1la",
        "outputId": "e0e63962-4a5a-4412-8131-d9be84d99381"
      },
      "source": [
        "# using isnull() function  \n",
        "data.isnull()"
      ],
      "execution_count": 11,
      "outputs": [
        {
          "output_type": "execute_result",
          "data": {
            "text/html": [
              "<div>\n",
              "<style scoped>\n",
              "    .dataframe tbody tr th:only-of-type {\n",
              "        vertical-align: middle;\n",
              "    }\n",
              "\n",
              "    .dataframe tbody tr th {\n",
              "        vertical-align: top;\n",
              "    }\n",
              "\n",
              "    .dataframe thead th {\n",
              "        text-align: right;\n",
              "    }\n",
              "</style>\n",
              "<table border=\"1\" class=\"dataframe\">\n",
              "  <thead>\n",
              "    <tr style=\"text-align: right;\">\n",
              "      <th></th>\n",
              "      <th>Row#</th>\n",
              "      <th>clonesize</th>\n",
              "      <th>honeybee</th>\n",
              "      <th>bumbles</th>\n",
              "      <th>andrena</th>\n",
              "      <th>osmia</th>\n",
              "      <th>MaxOfUpperTRange</th>\n",
              "      <th>MinOfUpperTRange</th>\n",
              "      <th>AverageOfUpperTRange</th>\n",
              "      <th>MaxOfLowerTRange</th>\n",
              "      <th>MinOfLowerTRange</th>\n",
              "      <th>AverageOfLowerTRange</th>\n",
              "      <th>RainingDays</th>\n",
              "      <th>AverageRainingDays</th>\n",
              "      <th>fruitset</th>\n",
              "      <th>fruitmass</th>\n",
              "      <th>seeds</th>\n",
              "      <th>yield</th>\n",
              "    </tr>\n",
              "  </thead>\n",
              "  <tbody>\n",
              "    <tr>\n",
              "      <th>0</th>\n",
              "      <td>False</td>\n",
              "      <td>False</td>\n",
              "      <td>False</td>\n",
              "      <td>False</td>\n",
              "      <td>False</td>\n",
              "      <td>False</td>\n",
              "      <td>False</td>\n",
              "      <td>False</td>\n",
              "      <td>False</td>\n",
              "      <td>False</td>\n",
              "      <td>False</td>\n",
              "      <td>False</td>\n",
              "      <td>False</td>\n",
              "      <td>False</td>\n",
              "      <td>False</td>\n",
              "      <td>False</td>\n",
              "      <td>False</td>\n",
              "      <td>False</td>\n",
              "    </tr>\n",
              "    <tr>\n",
              "      <th>1</th>\n",
              "      <td>False</td>\n",
              "      <td>False</td>\n",
              "      <td>False</td>\n",
              "      <td>False</td>\n",
              "      <td>False</td>\n",
              "      <td>False</td>\n",
              "      <td>False</td>\n",
              "      <td>False</td>\n",
              "      <td>False</td>\n",
              "      <td>False</td>\n",
              "      <td>False</td>\n",
              "      <td>False</td>\n",
              "      <td>False</td>\n",
              "      <td>False</td>\n",
              "      <td>False</td>\n",
              "      <td>False</td>\n",
              "      <td>False</td>\n",
              "      <td>False</td>\n",
              "    </tr>\n",
              "    <tr>\n",
              "      <th>2</th>\n",
              "      <td>False</td>\n",
              "      <td>False</td>\n",
              "      <td>False</td>\n",
              "      <td>False</td>\n",
              "      <td>False</td>\n",
              "      <td>False</td>\n",
              "      <td>False</td>\n",
              "      <td>False</td>\n",
              "      <td>False</td>\n",
              "      <td>False</td>\n",
              "      <td>False</td>\n",
              "      <td>False</td>\n",
              "      <td>False</td>\n",
              "      <td>False</td>\n",
              "      <td>False</td>\n",
              "      <td>False</td>\n",
              "      <td>False</td>\n",
              "      <td>False</td>\n",
              "    </tr>\n",
              "    <tr>\n",
              "      <th>3</th>\n",
              "      <td>False</td>\n",
              "      <td>False</td>\n",
              "      <td>False</td>\n",
              "      <td>False</td>\n",
              "      <td>False</td>\n",
              "      <td>False</td>\n",
              "      <td>False</td>\n",
              "      <td>False</td>\n",
              "      <td>False</td>\n",
              "      <td>False</td>\n",
              "      <td>False</td>\n",
              "      <td>False</td>\n",
              "      <td>False</td>\n",
              "      <td>False</td>\n",
              "      <td>False</td>\n",
              "      <td>False</td>\n",
              "      <td>False</td>\n",
              "      <td>False</td>\n",
              "    </tr>\n",
              "    <tr>\n",
              "      <th>4</th>\n",
              "      <td>False</td>\n",
              "      <td>False</td>\n",
              "      <td>False</td>\n",
              "      <td>False</td>\n",
              "      <td>False</td>\n",
              "      <td>False</td>\n",
              "      <td>False</td>\n",
              "      <td>False</td>\n",
              "      <td>False</td>\n",
              "      <td>False</td>\n",
              "      <td>False</td>\n",
              "      <td>False</td>\n",
              "      <td>False</td>\n",
              "      <td>False</td>\n",
              "      <td>False</td>\n",
              "      <td>False</td>\n",
              "      <td>False</td>\n",
              "      <td>False</td>\n",
              "    </tr>\n",
              "    <tr>\n",
              "      <th>...</th>\n",
              "      <td>...</td>\n",
              "      <td>...</td>\n",
              "      <td>...</td>\n",
              "      <td>...</td>\n",
              "      <td>...</td>\n",
              "      <td>...</td>\n",
              "      <td>...</td>\n",
              "      <td>...</td>\n",
              "      <td>...</td>\n",
              "      <td>...</td>\n",
              "      <td>...</td>\n",
              "      <td>...</td>\n",
              "      <td>...</td>\n",
              "      <td>...</td>\n",
              "      <td>...</td>\n",
              "      <td>...</td>\n",
              "      <td>...</td>\n",
              "      <td>...</td>\n",
              "    </tr>\n",
              "    <tr>\n",
              "      <th>772</th>\n",
              "      <td>False</td>\n",
              "      <td>False</td>\n",
              "      <td>False</td>\n",
              "      <td>False</td>\n",
              "      <td>False</td>\n",
              "      <td>False</td>\n",
              "      <td>False</td>\n",
              "      <td>False</td>\n",
              "      <td>False</td>\n",
              "      <td>False</td>\n",
              "      <td>False</td>\n",
              "      <td>False</td>\n",
              "      <td>False</td>\n",
              "      <td>False</td>\n",
              "      <td>False</td>\n",
              "      <td>False</td>\n",
              "      <td>False</td>\n",
              "      <td>False</td>\n",
              "    </tr>\n",
              "    <tr>\n",
              "      <th>773</th>\n",
              "      <td>False</td>\n",
              "      <td>False</td>\n",
              "      <td>False</td>\n",
              "      <td>False</td>\n",
              "      <td>False</td>\n",
              "      <td>False</td>\n",
              "      <td>False</td>\n",
              "      <td>False</td>\n",
              "      <td>False</td>\n",
              "      <td>False</td>\n",
              "      <td>False</td>\n",
              "      <td>False</td>\n",
              "      <td>False</td>\n",
              "      <td>False</td>\n",
              "      <td>False</td>\n",
              "      <td>False</td>\n",
              "      <td>False</td>\n",
              "      <td>False</td>\n",
              "    </tr>\n",
              "    <tr>\n",
              "      <th>774</th>\n",
              "      <td>False</td>\n",
              "      <td>False</td>\n",
              "      <td>False</td>\n",
              "      <td>False</td>\n",
              "      <td>False</td>\n",
              "      <td>False</td>\n",
              "      <td>False</td>\n",
              "      <td>False</td>\n",
              "      <td>False</td>\n",
              "      <td>False</td>\n",
              "      <td>False</td>\n",
              "      <td>False</td>\n",
              "      <td>False</td>\n",
              "      <td>False</td>\n",
              "      <td>False</td>\n",
              "      <td>False</td>\n",
              "      <td>False</td>\n",
              "      <td>False</td>\n",
              "    </tr>\n",
              "    <tr>\n",
              "      <th>775</th>\n",
              "      <td>False</td>\n",
              "      <td>False</td>\n",
              "      <td>False</td>\n",
              "      <td>False</td>\n",
              "      <td>False</td>\n",
              "      <td>False</td>\n",
              "      <td>False</td>\n",
              "      <td>False</td>\n",
              "      <td>False</td>\n",
              "      <td>False</td>\n",
              "      <td>False</td>\n",
              "      <td>False</td>\n",
              "      <td>False</td>\n",
              "      <td>False</td>\n",
              "      <td>False</td>\n",
              "      <td>False</td>\n",
              "      <td>False</td>\n",
              "      <td>False</td>\n",
              "    </tr>\n",
              "    <tr>\n",
              "      <th>776</th>\n",
              "      <td>False</td>\n",
              "      <td>False</td>\n",
              "      <td>False</td>\n",
              "      <td>False</td>\n",
              "      <td>False</td>\n",
              "      <td>False</td>\n",
              "      <td>False</td>\n",
              "      <td>False</td>\n",
              "      <td>False</td>\n",
              "      <td>False</td>\n",
              "      <td>False</td>\n",
              "      <td>False</td>\n",
              "      <td>False</td>\n",
              "      <td>False</td>\n",
              "      <td>False</td>\n",
              "      <td>False</td>\n",
              "      <td>False</td>\n",
              "      <td>False</td>\n",
              "    </tr>\n",
              "  </tbody>\n",
              "</table>\n",
              "<p>777 rows × 18 columns</p>\n",
              "</div>"
            ],
            "text/plain": [
              "      Row#  clonesize  honeybee  bumbles  ...  fruitset  fruitmass  seeds  yield\n",
              "0    False      False     False    False  ...     False      False  False  False\n",
              "1    False      False     False    False  ...     False      False  False  False\n",
              "2    False      False     False    False  ...     False      False  False  False\n",
              "3    False      False     False    False  ...     False      False  False  False\n",
              "4    False      False     False    False  ...     False      False  False  False\n",
              "..     ...        ...       ...      ...  ...       ...        ...    ...    ...\n",
              "772  False      False     False    False  ...     False      False  False  False\n",
              "773  False      False     False    False  ...     False      False  False  False\n",
              "774  False      False     False    False  ...     False      False  False  False\n",
              "775  False      False     False    False  ...     False      False  False  False\n",
              "776  False      False     False    False  ...     False      False  False  False\n",
              "\n",
              "[777 rows x 18 columns]"
            ]
          },
          "metadata": {
            "tags": []
          },
          "execution_count": 11
        }
      ]
    },
    {
      "cell_type": "code",
      "metadata": {
        "colab": {
          "base_uri": "https://localhost:8080/",
          "height": 265
        },
        "id": "3z01VSaFWt2L",
        "outputId": "4de0b5d5-40b8-41c0-c037-55d167d2dca5"
      },
      "source": [
        "plt.hist(data['yield'])\n",
        "plt.show()"
      ],
      "execution_count": 12,
      "outputs": [
        {
          "output_type": "display_data",
          "data": {
            "image/png": "[encoded data removed]",
            "text/plain": [
              "<Figure size 432x288 with 1 Axes>"
            ]
          },
          "metadata": {
            "tags": []
          }
        }
      ]
    },
    {
      "cell_type": "code",
      "metadata": {
        "colab": {
          "base_uri": "https://localhost:8080/",
          "height": 265
        },
        "id": "ws7S_kaJZRfW",
        "outputId": "b5b8565b-ac2e-4c98-d095-be24580f7435"
      },
      "source": [
        "plt.hist(data['clonesize'])\n",
        "plt.show()"
      ],
      "execution_count": 13,
      "outputs": [
        {
          "output_type": "display_data",
          "data": {
            "image/png": "[encoded data removed]",
            "text/plain": [
              "<Figure size 432x288 with 1 Axes>"
            ]
          },
          "metadata": {
            "tags": []
          }
        }
      ]
    },
    {
      "cell_type": "code",
      "metadata": {
        "colab": {
          "base_uri": "https://localhost:8080/",
          "height": 427
        },
        "id": "AvhmFOfeZbsm",
        "outputId": "24d1a3e2-3cb4-4d37-fa10-ea21d1a67de8"
      },
      "source": [
        "#removing outlier from clonesize column\n",
        "\n",
        "from scipy import stats\n",
        "data[(np.abs(stats.zscore(data['clonesize'])) < 3)]"
      ],
      "execution_count": 14,
      "outputs": [
        {
          "output_type": "execute_result",
          "data": {
            "text/html": [
              "<div>\n",
              "<style scoped>\n",
              "    .dataframe tbody tr th:only-of-type {\n",
              "        vertical-align: middle;\n",
              "    }\n",
              "\n",
              "    .dataframe tbody tr th {\n",
              "        vertical-align: top;\n",
              "    }\n",
              "\n",
              "    .dataframe thead th {\n",
              "        text-align: right;\n",
              "    }\n",
              "</style>\n",
              "<table border=\"1\" class=\"dataframe\">\n",
              "  <thead>\n",
              "    <tr style=\"text-align: right;\">\n",
              "      <th></th>\n",
              "      <th>Row#</th>\n",
              "      <th>clonesize</th>\n",
              "      <th>honeybee</th>\n",
              "      <th>bumbles</th>\n",
              "      <th>andrena</th>\n",
              "      <th>osmia</th>\n",
              "      <th>MaxOfUpperTRange</th>\n",
              "      <th>MinOfUpperTRange</th>\n",
              "      <th>AverageOfUpperTRange</th>\n",
              "      <th>MaxOfLowerTRange</th>\n",
              "      <th>MinOfLowerTRange</th>\n",
              "      <th>AverageOfLowerTRange</th>\n",
              "      <th>RainingDays</th>\n",
              "      <th>AverageRainingDays</th>\n",
              "      <th>fruitset</th>\n",
              "      <th>fruitmass</th>\n",
              "      <th>seeds</th>\n",
              "      <th>yield</th>\n",
              "    </tr>\n",
              "  </thead>\n",
              "  <tbody>\n",
              "    <tr>\n",
              "      <th>0</th>\n",
              "      <td>0</td>\n",
              "      <td>37.5</td>\n",
              "      <td>0.750</td>\n",
              "      <td>0.250</td>\n",
              "      <td>0.250</td>\n",
              "      <td>0.250</td>\n",
              "      <td>86.0</td>\n",
              "      <td>52.0</td>\n",
              "      <td>71.9</td>\n",
              "      <td>62.0</td>\n",
              "      <td>30.0</td>\n",
              "      <td>50.8</td>\n",
              "      <td>16.00</td>\n",
              "      <td>0.26</td>\n",
              "      <td>0.410652</td>\n",
              "      <td>0.408159</td>\n",
              "      <td>31.678898</td>\n",
              "      <td>3813.165795</td>\n",
              "    </tr>\n",
              "    <tr>\n",
              "      <th>1</th>\n",
              "      <td>1</td>\n",
              "      <td>37.5</td>\n",
              "      <td>0.750</td>\n",
              "      <td>0.250</td>\n",
              "      <td>0.250</td>\n",
              "      <td>0.250</td>\n",
              "      <td>86.0</td>\n",
              "      <td>52.0</td>\n",
              "      <td>71.9</td>\n",
              "      <td>62.0</td>\n",
              "      <td>30.0</td>\n",
              "      <td>50.8</td>\n",
              "      <td>1.00</td>\n",
              "      <td>0.10</td>\n",
              "      <td>0.444254</td>\n",
              "      <td>0.425458</td>\n",
              "      <td>33.449385</td>\n",
              "      <td>4947.605663</td>\n",
              "    </tr>\n",
              "    <tr>\n",
              "      <th>2</th>\n",
              "      <td>2</td>\n",
              "      <td>37.5</td>\n",
              "      <td>0.750</td>\n",
              "      <td>0.250</td>\n",
              "      <td>0.250</td>\n",
              "      <td>0.250</td>\n",
              "      <td>94.6</td>\n",
              "      <td>57.2</td>\n",
              "      <td>79.0</td>\n",
              "      <td>68.2</td>\n",
              "      <td>33.0</td>\n",
              "      <td>55.9</td>\n",
              "      <td>16.00</td>\n",
              "      <td>0.26</td>\n",
              "      <td>0.383787</td>\n",
              "      <td>0.399172</td>\n",
              "      <td>30.546306</td>\n",
              "      <td>3866.798965</td>\n",
              "    </tr>\n",
              "    <tr>\n",
              "      <th>3</th>\n",
              "      <td>3</td>\n",
              "      <td>37.5</td>\n",
              "      <td>0.750</td>\n",
              "      <td>0.250</td>\n",
              "      <td>0.250</td>\n",
              "      <td>0.250</td>\n",
              "      <td>94.6</td>\n",
              "      <td>57.2</td>\n",
              "      <td>79.0</td>\n",
              "      <td>68.2</td>\n",
              "      <td>33.0</td>\n",
              "      <td>55.9</td>\n",
              "      <td>1.00</td>\n",
              "      <td>0.10</td>\n",
              "      <td>0.407564</td>\n",
              "      <td>0.408789</td>\n",
              "      <td>31.562586</td>\n",
              "      <td>4303.943030</td>\n",
              "    </tr>\n",
              "    <tr>\n",
              "      <th>4</th>\n",
              "      <td>4</td>\n",
              "      <td>37.5</td>\n",
              "      <td>0.750</td>\n",
              "      <td>0.250</td>\n",
              "      <td>0.250</td>\n",
              "      <td>0.250</td>\n",
              "      <td>86.0</td>\n",
              "      <td>52.0</td>\n",
              "      <td>71.9</td>\n",
              "      <td>62.0</td>\n",
              "      <td>30.0</td>\n",
              "      <td>50.8</td>\n",
              "      <td>24.00</td>\n",
              "      <td>0.39</td>\n",
              "      <td>0.354413</td>\n",
              "      <td>0.382703</td>\n",
              "      <td>28.873714</td>\n",
              "      <td>3436.493543</td>\n",
              "    </tr>\n",
              "    <tr>\n",
              "      <th>...</th>\n",
              "      <td>...</td>\n",
              "      <td>...</td>\n",
              "      <td>...</td>\n",
              "      <td>...</td>\n",
              "      <td>...</td>\n",
              "      <td>...</td>\n",
              "      <td>...</td>\n",
              "      <td>...</td>\n",
              "      <td>...</td>\n",
              "      <td>...</td>\n",
              "      <td>...</td>\n",
              "      <td>...</td>\n",
              "      <td>...</td>\n",
              "      <td>...</td>\n",
              "      <td>...</td>\n",
              "      <td>...</td>\n",
              "      <td>...</td>\n",
              "      <td>...</td>\n",
              "    </tr>\n",
              "    <tr>\n",
              "      <th>771</th>\n",
              "      <td>771</td>\n",
              "      <td>20.0</td>\n",
              "      <td>0.000</td>\n",
              "      <td>0.058</td>\n",
              "      <td>0.409</td>\n",
              "      <td>0.117</td>\n",
              "      <td>86.0</td>\n",
              "      <td>52.0</td>\n",
              "      <td>71.9</td>\n",
              "      <td>62.0</td>\n",
              "      <td>30.0</td>\n",
              "      <td>50.8</td>\n",
              "      <td>3.77</td>\n",
              "      <td>0.06</td>\n",
              "      <td>0.335927</td>\n",
              "      <td>0.377012</td>\n",
              "      <td>28.135899</td>\n",
              "      <td>3471.192143</td>\n",
              "    </tr>\n",
              "    <tr>\n",
              "      <th>772</th>\n",
              "      <td>772</td>\n",
              "      <td>10.0</td>\n",
              "      <td>0.537</td>\n",
              "      <td>0.117</td>\n",
              "      <td>0.409</td>\n",
              "      <td>0.058</td>\n",
              "      <td>86.0</td>\n",
              "      <td>52.0</td>\n",
              "      <td>71.9</td>\n",
              "      <td>62.0</td>\n",
              "      <td>30.0</td>\n",
              "      <td>50.8</td>\n",
              "      <td>3.77</td>\n",
              "      <td>0.06</td>\n",
              "      <td>0.486815</td>\n",
              "      <td>0.428012</td>\n",
              "      <td>33.447471</td>\n",
              "      <td>5333.873335</td>\n",
              "    </tr>\n",
              "    <tr>\n",
              "      <th>774</th>\n",
              "      <td>774</td>\n",
              "      <td>20.0</td>\n",
              "      <td>0.537</td>\n",
              "      <td>0.117</td>\n",
              "      <td>0.409</td>\n",
              "      <td>0.058</td>\n",
              "      <td>86.0</td>\n",
              "      <td>52.0</td>\n",
              "      <td>71.9</td>\n",
              "      <td>62.0</td>\n",
              "      <td>30.0</td>\n",
              "      <td>50.8</td>\n",
              "      <td>24.00</td>\n",
              "      <td>0.39</td>\n",
              "      <td>0.404617</td>\n",
              "      <td>0.401670</td>\n",
              "      <td>30.748240</td>\n",
              "      <td>4203.027624</td>\n",
              "    </tr>\n",
              "    <tr>\n",
              "      <th>775</th>\n",
              "      <td>775</td>\n",
              "      <td>20.0</td>\n",
              "      <td>0.537</td>\n",
              "      <td>0.117</td>\n",
              "      <td>0.409</td>\n",
              "      <td>0.058</td>\n",
              "      <td>89.0</td>\n",
              "      <td>39.0</td>\n",
              "      <td>65.6</td>\n",
              "      <td>66.0</td>\n",
              "      <td>28.0</td>\n",
              "      <td>45.3</td>\n",
              "      <td>3.77</td>\n",
              "      <td>0.06</td>\n",
              "      <td>0.401538</td>\n",
              "      <td>0.399935</td>\n",
              "      <td>30.582161</td>\n",
              "      <td>4166.299735</td>\n",
              "    </tr>\n",
              "    <tr>\n",
              "      <th>776</th>\n",
              "      <td>776</td>\n",
              "      <td>20.0</td>\n",
              "      <td>0.537</td>\n",
              "      <td>0.117</td>\n",
              "      <td>0.409</td>\n",
              "      <td>0.058</td>\n",
              "      <td>89.0</td>\n",
              "      <td>39.0</td>\n",
              "      <td>65.6</td>\n",
              "      <td>66.0</td>\n",
              "      <td>28.0</td>\n",
              "      <td>45.3</td>\n",
              "      <td>24.00</td>\n",
              "      <td>0.39</td>\n",
              "      <td>0.384646</td>\n",
              "      <td>0.392303</td>\n",
              "      <td>29.742583</td>\n",
              "      <td>3943.131681</td>\n",
              "    </tr>\n",
              "  </tbody>\n",
              "</table>\n",
              "<p>776 rows × 18 columns</p>\n",
              "</div>"
            ],
            "text/plain": [
              "     Row#  clonesize  honeybee  ...  fruitmass      seeds        yield\n",
              "0       0       37.5     0.750  ...   0.408159  31.678898  3813.165795\n",
              "1       1       37.5     0.750  ...   0.425458  33.449385  4947.605663\n",
              "2       2       37.5     0.750  ...   0.399172  30.546306  3866.798965\n",
              "3       3       37.5     0.750  ...   0.408789  31.562586  4303.943030\n",
              "4       4       37.5     0.750  ...   0.382703  28.873714  3436.493543\n",
              "..    ...        ...       ...  ...        ...        ...          ...\n",
              "771   771       20.0     0.000  ...   0.377012  28.135899  3471.192143\n",
              "772   772       10.0     0.537  ...   0.428012  33.447471  5333.873335\n",
              "774   774       20.0     0.537  ...   0.401670  30.748240  4203.027624\n",
              "775   775       20.0     0.537  ...   0.399935  30.582161  4166.299735\n",
              "776   776       20.0     0.537  ...   0.392303  29.742583  3943.131681\n",
              "\n",
              "[776 rows x 18 columns]"
            ]
          },
          "metadata": {
            "tags": []
          },
          "execution_count": 14
        }
      ]
    },
    {
      "cell_type": "code",
      "metadata": {
        "colab": {
          "base_uri": "https://localhost:8080/",
          "height": 396
        },
        "id": "Q8uOCxOwbIY1",
        "outputId": "b8d2aed1-4f28-41fd-da4e-4e9048a664ff"
      },
      "source": [
        "# calculate correlation matrix\n",
        "corr = data.corr()\n",
        "# plot the heatmap\n",
        "sns.heatmap(corr, xticklabels=corr.columns, yticklabels=corr.columns,  cmap=sns.diverging_palette(220, 20, as_cmap=True))"
      ],
      "execution_count": 15,
      "outputs": [
        {
          "output_type": "execute_result",
          "data": {
            "text/plain": [
              "<matplotlib.axes._subplots.AxesSubplot at 0x7fa8e124ec10>"
            ]
          },
          "metadata": {
            "tags": []
          },
          "execution_count": 15
        },
        {
          "output_type": "display_data",
          "data": {
            "image/png": "[encoded data removed]",
            "text/plain": [
              "<Figure size 432x288 with 2 Axes>"
            ]
          },
          "metadata": {
            "tags": []
          }
        }
      ]
    },
    {
      "cell_type": "code",
      "metadata": {
        "colab": {
          "base_uri": "https://localhost:8080/",
          "height": 298
        },
        "id": "WescCbcUb9EQ",
        "outputId": "0651c69b-32d7-4744-ec1b-f3e9066f1377"
      },
      "source": [
        "data.plot(kind='scatter', x='yield', y='clonesize')"
      ],
      "execution_count": 16,
      "outputs": [
        {
          "output_type": "execute_result",
          "data": {
            "text/plain": [
              "<matplotlib.axes._subplots.AxesSubplot at 0x7fa8deda7410>"
            ]
          },
          "metadata": {
            "tags": []
          },
          "execution_count": 16
        },
        {
          "output_type": "display_data",
          "data": {
            "image/png": "[encoded data removed]",
            "text/plain": [
              "<Figure size 432x288 with 1 Axes>"
            ]
          },
          "metadata": {
            "tags": []
          }
        }
      ]
    },
    {
      "cell_type": "code",
      "metadata": {
        "id": "dqfZrbrYcfIK"
      },
      "source": [
        "# define model\n",
        "model = Lasso(alpha=1.0)"
      ],
      "execution_count": 17,
      "outputs": []
    },
    {
      "cell_type": "code",
      "metadata": {
        "id": "iOB4-cKTdID9"
      },
      "source": [
        "# split data into features and target \n",
        "X = data.drop(['yield'], axis = 1)\n",
        "y = data['yield'].values"
      ],
      "execution_count": 18,
      "outputs": []
    },
    {
      "cell_type": "code",
      "metadata": {
        "colab": {
          "base_uri": "https://localhost:8080/"
        },
        "id": "xneMfhNYfqX6",
        "outputId": "8c80f5b8-027b-4947-b61d-d309a81e0f44"
      },
      "source": [
        "from numpy import mean\n",
        "from numpy import std\n",
        "from numpy import absolute\n",
        "# define model evaluation method\n",
        "cv = RepeatedKFold(n_splits=10, n_repeats=3, random_state=1)\n",
        "# evaluate model\n",
        "scores = cross_val_score(model, X, y, scoring='neg_mean_absolute_error', cv=cv, n_jobs=-1)\n",
        "# force scores to be positive\n",
        "scores = absolute(scores)\n",
        "print('Mean MAE: %.3f (%.3f)' % (mean(scores), std(scores)))"
      ],
      "execution_count": 19,
      "outputs": [
        {
          "output_type": "stream",
          "text": [
            "Mean MAE: 120.165 (12.592)\n"
          ],
          "name": "stdout"
        }
      ]
    },
    {
      "cell_type": "code",
      "metadata": {
        "id": "TcNBigWfgGkQ"
      },
      "source": [
        "\n",
        "# grid search hyperparameters for lasso regression\n",
        "from numpy import arange\n",
        "from pandas import read_csv\n",
        "from sklearn.model_selection import GridSearchCV\n",
        "from sklearn.model_selection import RepeatedKFold"
      ],
      "execution_count": 20,
      "outputs": []
    },
    {
      "cell_type": "code",
      "metadata": {
        "colab": {
          "base_uri": "https://localhost:8080/"
        },
        "id": "KVDuaPMjgsUT",
        "outputId": "1b9edc53-d08e-42d0-cfb6-a3a722d7115c"
      },
      "source": [
        "# define model\n",
        "model = Lasso()\n",
        "# define model evaluation method\n",
        "cv = RepeatedKFold(n_splits=10, n_repeats=3, random_state=1)\n",
        "# define grid\n",
        "grid = dict()\n",
        "grid['alpha'] = arange(0, 1, 0.01)\n",
        "# define search\n",
        "search = GridSearchCV(model, grid, scoring='neg_mean_absolute_error', cv=cv, n_jobs=-1)\n",
        "# perform the search\n",
        "results = search.fit(X, y)\n",
        "# summarize\n",
        "print('MAE: %.3f' % results.best_score_)\n",
        "print('Config: %s' % results.best_params_)"
      ],
      "execution_count": 21,
      "outputs": [
        {
          "output_type": "stream",
          "text": [
            "MAE: -96.289\n",
            "Config: {'alpha': 0.0}\n"
          ],
          "name": "stdout"
        },
        {
          "output_type": "stream",
          "text": [
            "/usr/local/lib/python3.7/dist-packages/sklearn/model_selection/_search.py:739: UserWarning: With alpha=0, this algorithm does not converge well. You are advised to use the LinearRegression estimator\n",
            "  self.best_estimator_.fit(X, y, **fit_params)\n",
            "/usr/local/lib/python3.7/dist-packages/sklearn/linear_model/_coordinate_descent.py:476: UserWarning: Coordinate descent with no regularization may lead to unexpected results and is discouraged.\n",
            "  positive)\n",
            "/usr/local/lib/python3.7/dist-packages/sklearn/linear_model/_coordinate_descent.py:476: ConvergenceWarning: Objective did not converge. You might want to increase the number of iterations. Duality gap: 5906501.125369847, tolerance: 142887.03229357404\n",
            "  positive)\n"
          ],
          "name": "stderr"
        }
      ]
    },
    {
      "cell_type": "code",
      "metadata": {
        "id": "lRML8Uj-ks6V"
      },
      "source": [
        "## Load requried packages\n",
        "from sklearn.metrics import r2_score\n",
        "from sklearn.metrics import mean_squared_error\n",
        "from math import sqrt\n",
        "from sklearn.linear_model import Lasso\n",
        "from sklearn.model_selection import train_test_split"
      ],
      "execution_count": 22,
      "outputs": []
    },
    {
      "cell_type": "code",
      "metadata": {
        "colab": {
          "base_uri": "https://localhost:8080/"
        },
        "id": "HH_vL8SqkxEI",
        "outputId": "cd612232-5ec1-4666-b521-df587dd76b8e"
      },
      "source": [
        "\n",
        "Xtrain, Xtest, ytrain, ytest = train_test_split(X, y, test_size=0.30,\n",
        "random_state=40)\n",
        "print(Xtrain.shape)\n",
        "print(Xtest.shape)"
      ],
      "execution_count": 23,
      "outputs": [
        {
          "output_type": "stream",
          "text": [
            "(543, 17)\n",
            "(234, 17)\n"
          ],
          "name": "stdout"
        }
      ]
    },
    {
      "cell_type": "code",
      "metadata": {
        "id": "clm_N0zilPYH"
      },
      "source": [
        "## Build the lasso model with alpha\n",
        "\n",
        "model_lasso = Lasso(alpha=1,normalize=True)\n",
        "model_lasso.fit(Xtrain, ytrain)\n",
        "pred_train_lasso= model_lasso.predict(Xtrain)\n",
        "pred_test_lasso= model_lasso.predict(Xtest)"
      ],
      "execution_count": 24,
      "outputs": []
    },
    {
      "cell_type": "code",
      "metadata": {
        "colab": {
          "base_uri": "https://localhost:8080/"
        },
        "id": "ZM5pIuuvpIob",
        "outputId": "e3f260aa-f7bf-492d-e85e-1299db0e36c6"
      },
      "source": [
        "## Evaluate the lasso model\n",
        "print(np.sqrt(mean_squared_error(ytrain,pred_train_lasso)))\n",
        "print(r2_score(ytrain, pred_train_lasso))\n",
        "print(np.sqrt(mean_squared_error(ytest,pred_test_lasso)))\n",
        "print(r2_score(ytest, pred_test_lasso))"
      ],
      "execution_count": 25,
      "outputs": [
        {
          "output_type": "stream",
          "text": [
            "150.1037959665296\n",
            "0.9876190621366695\n",
            "158.03171236275946\n",
            "0.9867293149795683\n"
          ],
          "name": "stdout"
        }
      ]
    },
    {
      "cell_type": "code",
      "metadata": {
        "colab": {
          "base_uri": "https://localhost:8080/"
        },
        "id": "8o-nmnZ5qKcO",
        "outputId": "a5e73689-0f9b-4365-e0de-aa47ab1f8a80"
      },
      "source": [
        "## Tunning lasso regression model\n",
        "\n",
        "from numpy import arange\n",
        "from sklearn.model_selection import RepeatedKFold\n",
        "import pandas as pd\n",
        "from sklearn.linear_model import LassoCV\n",
        "\n",
        "\n",
        "#load the dataset \n",
        "# split data into features and target \n",
        "X = data.drop(['yield'], axis = 1)\n",
        "y = data['yield'].values\n",
        "Xtrain, Xtest, ytrain, ytest = train_test_split(X, y, test_size=0.30,\n",
        "random_state=40)\n",
        "\n",
        "## define model evaluation method\n",
        "cross_validation = RepeatedKFold(n_splits=10, n_repeats=3, random_state=1)\n",
        "\n",
        "## define model\n",
        "\n",
        "lasso_model = LassoCV(alphas=arange(0, 1, 0.02), normalize= True, cv=cross_validation , n_jobs=-1)\n",
        "\n",
        "## fit model\n",
        "lasso_model .fit(Xtrain, ytrain)\n",
        "## summarize chosen configuration\n",
        "print('alpha: %f' % lasso_model .alpha_)\n",
        "\n",
        "pred_train_lasso= lasso_model .predict(Xtrain)\n",
        "pred_test_lasso= lasso_model .predict(Xtest)\n",
        "\n",
        "\n",
        "\n",
        "print(np.sqrt(mean_squared_error(ytrain,pred_train_lasso)))\n",
        "print(r2_score(ytrain, pred_train_lasso))\n",
        "print(np.sqrt(mean_squared_error(ytest,pred_test_lasso)))\n",
        "print(r2_score(ytest, pred_test_lasso))\n"
      ],
      "execution_count": 26,
      "outputs": [
        {
          "output_type": "stream",
          "text": [
            "/usr/local/lib/python3.7/dist-packages/sklearn/linear_model/_coordinate_descent.py:472: UserWarning: Coordinate descent with alpha=0 may lead to unexpected results and is discouraged.\n",
            "  tol, rng, random, positive)\n",
            "/usr/local/lib/python3.7/dist-packages/sklearn/linear_model/_coordinate_descent.py:472: ConvergenceWarning: Objective did not converge. You might want to increase the number of iterations. Duality gap: 3746191.056765318, tolerance: 91405.95737428861\n",
            "  tol, rng, random, positive)\n",
            "/usr/local/lib/python3.7/dist-packages/sklearn/linear_model/_coordinate_descent.py:472: UserWarning: Coordinate descent with alpha=0 may lead to unexpected results and is discouraged.\n",
            "  tol, rng, random, positive)\n",
            "/usr/local/lib/python3.7/dist-packages/sklearn/linear_model/_coordinate_descent.py:472: ConvergenceWarning: Objective did not converge. You might want to increase the number of iterations. Duality gap: 3316079.1119173765, tolerance: 90080.77892089954\n",
            "  tol, rng, random, positive)\n",
            "/usr/local/lib/python3.7/dist-packages/sklearn/linear_model/_coordinate_descent.py:472: UserWarning: Coordinate descent with alpha=0 may lead to unexpected results and is discouraged.\n",
            "  tol, rng, random, positive)\n",
            "/usr/local/lib/python3.7/dist-packages/sklearn/linear_model/_coordinate_descent.py:472: UserWarning: Coordinate descent with alpha=0 may lead to unexpected results and is discouraged.\n",
            "  tol, rng, random, positive)\n",
            "/usr/local/lib/python3.7/dist-packages/sklearn/linear_model/_coordinate_descent.py:472: ConvergenceWarning: Objective did not converge. You might want to increase the number of iterations. Duality gap: 3587677.117751837, tolerance: 88648.47114445384\n",
            "  tol, rng, random, positive)\n",
            "/usr/local/lib/python3.7/dist-packages/sklearn/linear_model/_coordinate_descent.py:472: ConvergenceWarning: Objective did not converge. You might want to increase the number of iterations. Duality gap: 3529777.1385838985, tolerance: 87225.84442564768\n",
            "  tol, rng, random, positive)\n",
            "/usr/local/lib/python3.7/dist-packages/sklearn/linear_model/_coordinate_descent.py:472: UserWarning: Coordinate descent with alpha=0 may lead to unexpected results and is discouraged.\n",
            "  tol, rng, random, positive)\n",
            "/usr/local/lib/python3.7/dist-packages/sklearn/linear_model/_coordinate_descent.py:472: ConvergenceWarning: Objective did not converge. You might want to increase the number of iterations. Duality gap: 3783117.58300972, tolerance: 87274.59464463388\n",
            "  tol, rng, random, positive)\n",
            "/usr/local/lib/python3.7/dist-packages/sklearn/linear_model/_coordinate_descent.py:472: UserWarning: Coordinate descent with alpha=0 may lead to unexpected results and is discouraged.\n",
            "  tol, rng, random, positive)\n",
            "/usr/local/lib/python3.7/dist-packages/sklearn/linear_model/_coordinate_descent.py:472: ConvergenceWarning: Objective did not converge. You might want to increase the number of iterations. Duality gap: 3526440.5774858, tolerance: 90146.8560354609\n",
            "  tol, rng, random, positive)\n",
            "/usr/local/lib/python3.7/dist-packages/sklearn/linear_model/_coordinate_descent.py:472: UserWarning: Coordinate descent with alpha=0 may lead to unexpected results and is discouraged.\n",
            "  tol, rng, random, positive)\n",
            "/usr/local/lib/python3.7/dist-packages/sklearn/linear_model/_coordinate_descent.py:472: ConvergenceWarning: Objective did not converge. You might want to increase the number of iterations. Duality gap: 3467628.3558268547, tolerance: 87232.02665805945\n",
            "  tol, rng, random, positive)\n",
            "/usr/local/lib/python3.7/dist-packages/sklearn/linear_model/_coordinate_descent.py:472: UserWarning: Coordinate descent with alpha=0 may lead to unexpected results and is discouraged.\n",
            "  tol, rng, random, positive)\n",
            "/usr/local/lib/python3.7/dist-packages/sklearn/linear_model/_coordinate_descent.py:472: ConvergenceWarning: Objective did not converge. You might want to increase the number of iterations. Duality gap: 3631955.8834615946, tolerance: 91890.98916887287\n",
            "  tol, rng, random, positive)\n",
            "/usr/local/lib/python3.7/dist-packages/sklearn/linear_model/_coordinate_descent.py:472: UserWarning: Coordinate descent with alpha=0 may lead to unexpected results and is discouraged.\n",
            "  tol, rng, random, positive)\n",
            "/usr/local/lib/python3.7/dist-packages/sklearn/linear_model/_coordinate_descent.py:472: UserWarning: Coordinate descent with alpha=0 may lead to unexpected results and is discouraged.\n",
            "  tol, rng, random, positive)\n",
            "/usr/local/lib/python3.7/dist-packages/sklearn/linear_model/_coordinate_descent.py:472: ConvergenceWarning: Objective did not converge. You might want to increase the number of iterations. Duality gap: 3635168.8945508003, tolerance: 88166.00305001003\n",
            "  tol, rng, random, positive)\n",
            "/usr/local/lib/python3.7/dist-packages/sklearn/linear_model/_coordinate_descent.py:472: ConvergenceWarning: Objective did not converge. You might want to increase the number of iterations. Duality gap: 3709389.745476842, tolerance: 87202.39975466361\n",
            "  tol, rng, random, positive)\n",
            "/usr/local/lib/python3.7/dist-packages/sklearn/linear_model/_coordinate_descent.py:472: UserWarning: Coordinate descent with alpha=0 may lead to unexpected results and is discouraged.\n",
            "  tol, rng, random, positive)\n",
            "/usr/local/lib/python3.7/dist-packages/sklearn/linear_model/_coordinate_descent.py:472: ConvergenceWarning: Objective did not converge. You might want to increase the number of iterations. Duality gap: 3683596.5427520275, tolerance: 88520.7863233309\n",
            "  tol, rng, random, positive)\n",
            "/usr/local/lib/python3.7/dist-packages/sklearn/linear_model/_coordinate_descent.py:472: UserWarning: Coordinate descent with alpha=0 may lead to unexpected results and is discouraged.\n",
            "  tol, rng, random, positive)\n",
            "/usr/local/lib/python3.7/dist-packages/sklearn/linear_model/_coordinate_descent.py:472: ConvergenceWarning: Objective did not converge. You might want to increase the number of iterations. Duality gap: 3734017.123131156, tolerance: 88088.17416441864\n",
            "  tol, rng, random, positive)\n",
            "/usr/local/lib/python3.7/dist-packages/sklearn/linear_model/_coordinate_descent.py:472: UserWarning: Coordinate descent with alpha=0 may lead to unexpected results and is discouraged.\n",
            "  tol, rng, random, positive)\n",
            "/usr/local/lib/python3.7/dist-packages/sklearn/linear_model/_coordinate_descent.py:472: ConvergenceWarning: Objective did not converge. You might want to increase the number of iterations. Duality gap: 3481145.4479470253, tolerance: 90210.16904641809\n",
            "  tol, rng, random, positive)\n",
            "/usr/local/lib/python3.7/dist-packages/sklearn/linear_model/_coordinate_descent.py:472: UserWarning: Coordinate descent with alpha=0 may lead to unexpected results and is discouraged.\n",
            "  tol, rng, random, positive)\n",
            "/usr/local/lib/python3.7/dist-packages/sklearn/linear_model/_coordinate_descent.py:472: ConvergenceWarning: Objective did not converge. You might want to increase the number of iterations. Duality gap: 3649531.7526396513, tolerance: 86641.35348048402\n",
            "  tol, rng, random, positive)\n",
            "/usr/local/lib/python3.7/dist-packages/sklearn/linear_model/_coordinate_descent.py:472: UserWarning: Coordinate descent with alpha=0 may lead to unexpected results and is discouraged.\n",
            "  tol, rng, random, positive)\n",
            "/usr/local/lib/python3.7/dist-packages/sklearn/linear_model/_coordinate_descent.py:472: ConvergenceWarning: Objective did not converge. You might want to increase the number of iterations. Duality gap: 3525050.6644017696, tolerance: 87173.59545441162\n",
            "  tol, rng, random, positive)\n",
            "/usr/local/lib/python3.7/dist-packages/sklearn/linear_model/_coordinate_descent.py:472: UserWarning: Coordinate descent with alpha=0 may lead to unexpected results and is discouraged.\n",
            "  tol, rng, random, positive)\n",
            "/usr/local/lib/python3.7/dist-packages/sklearn/linear_model/_coordinate_descent.py:472: ConvergenceWarning: Objective did not converge. You might want to increase the number of iterations. Duality gap: 3434335.797929764, tolerance: 90360.6482446954\n",
            "  tol, rng, random, positive)\n",
            "/usr/local/lib/python3.7/dist-packages/sklearn/linear_model/_coordinate_descent.py:472: UserWarning: Coordinate descent with alpha=0 may lead to unexpected results and is discouraged.\n",
            "  tol, rng, random, positive)\n",
            "/usr/local/lib/python3.7/dist-packages/sklearn/linear_model/_coordinate_descent.py:472: ConvergenceWarning: Objective did not converge. You might want to increase the number of iterations. Duality gap: 3610706.3172928095, tolerance: 91022.42054809087\n",
            "  tol, rng, random, positive)\n",
            "/usr/local/lib/python3.7/dist-packages/sklearn/linear_model/_coordinate_descent.py:472: UserWarning: Coordinate descent with alpha=0 may lead to unexpected results and is discouraged.\n",
            "  tol, rng, random, positive)\n",
            "/usr/local/lib/python3.7/dist-packages/sklearn/linear_model/_coordinate_descent.py:472: ConvergenceWarning: Objective did not converge. You might want to increase the number of iterations. Duality gap: 3751836.8962601423, tolerance: 89987.48298692962\n",
            "  tol, rng, random, positive)\n",
            "/usr/local/lib/python3.7/dist-packages/sklearn/linear_model/_coordinate_descent.py:472: UserWarning: Coordinate descent with alpha=0 may lead to unexpected results and is discouraged.\n",
            "  tol, rng, random, positive)\n",
            "/usr/local/lib/python3.7/dist-packages/sklearn/linear_model/_coordinate_descent.py:472: UserWarning: Coordinate descent with alpha=0 may lead to unexpected results and is discouraged.\n",
            "  tol, rng, random, positive)\n",
            "/usr/local/lib/python3.7/dist-packages/sklearn/linear_model/_coordinate_descent.py:472: ConvergenceWarning: Objective did not converge. You might want to increase the number of iterations. Duality gap: 3480289.4617727995, tolerance: 87714.60925480595\n",
            "  tol, rng, random, positive)\n",
            "/usr/local/lib/python3.7/dist-packages/sklearn/linear_model/_coordinate_descent.py:472: ConvergenceWarning: Objective did not converge. You might want to increase the number of iterations. Duality gap: 3617612.6968175173, tolerance: 89487.28804708474\n",
            "  tol, rng, random, positive)\n",
            "/usr/local/lib/python3.7/dist-packages/sklearn/linear_model/_coordinate_descent.py:472: UserWarning: Coordinate descent with alpha=0 may lead to unexpected results and is discouraged.\n",
            "  tol, rng, random, positive)\n",
            "/usr/local/lib/python3.7/dist-packages/sklearn/linear_model/_coordinate_descent.py:472: UserWarning: Coordinate descent with alpha=0 may lead to unexpected results and is discouraged.\n",
            "  tol, rng, random, positive)\n",
            "/usr/local/lib/python3.7/dist-packages/sklearn/linear_model/_coordinate_descent.py:472: ConvergenceWarning: Objective did not converge. You might want to increase the number of iterations. Duality gap: 3799441.2969130278, tolerance: 90152.86835537534\n",
            "  tol, rng, random, positive)\n",
            "/usr/local/lib/python3.7/dist-packages/sklearn/linear_model/_coordinate_descent.py:472: ConvergenceWarning: Objective did not converge. You might want to increase the number of iterations. Duality gap: 3604056.768835902, tolerance: 88995.90171427262\n",
            "  tol, rng, random, positive)\n",
            "/usr/local/lib/python3.7/dist-packages/sklearn/linear_model/_coordinate_descent.py:472: UserWarning: Coordinate descent with alpha=0 may lead to unexpected results and is discouraged.\n",
            "  tol, rng, random, positive)\n",
            "/usr/local/lib/python3.7/dist-packages/sklearn/linear_model/_coordinate_descent.py:472: ConvergenceWarning: Objective did not converge. You might want to increase the number of iterations. Duality gap: 3602221.1149771214, tolerance: 86571.56363446728\n",
            "  tol, rng, random, positive)\n",
            "/usr/local/lib/python3.7/dist-packages/sklearn/linear_model/_coordinate_descent.py:472: UserWarning: Coordinate descent with alpha=0 may lead to unexpected results and is discouraged.\n",
            "  tol, rng, random, positive)\n",
            "/usr/local/lib/python3.7/dist-packages/sklearn/linear_model/_coordinate_descent.py:472: ConvergenceWarning: Objective did not converge. You might want to increase the number of iterations. Duality gap: 3598598.014380336, tolerance: 89078.8626684056\n",
            "  tol, rng, random, positive)\n",
            "/usr/local/lib/python3.7/dist-packages/sklearn/linear_model/_coordinate_descent.py:472: UserWarning: Coordinate descent with alpha=0 may lead to unexpected results and is discouraged.\n",
            "  tol, rng, random, positive)\n",
            "/usr/local/lib/python3.7/dist-packages/sklearn/linear_model/_coordinate_descent.py:472: ConvergenceWarning: Objective did not converge. You might want to increase the number of iterations. Duality gap: 3693424.7033815384, tolerance: 89250.59683105702\n",
            "  tol, rng, random, positive)\n",
            "/usr/local/lib/python3.7/dist-packages/sklearn/linear_model/_coordinate_descent.py:472: UserWarning: Coordinate descent with alpha=0 may lead to unexpected results and is discouraged.\n",
            "  tol, rng, random, positive)\n",
            "/usr/local/lib/python3.7/dist-packages/sklearn/linear_model/_coordinate_descent.py:472: ConvergenceWarning: Objective did not converge. You might want to increase the number of iterations. Duality gap: 3476511.2469785213, tolerance: 89900.81537747146\n",
            "  tol, rng, random, positive)\n",
            "/usr/local/lib/python3.7/dist-packages/sklearn/linear_model/_coordinate_descent.py:472: UserWarning: Coordinate descent with alpha=0 may lead to unexpected results and is discouraged.\n",
            "  tol, rng, random, positive)\n",
            "/usr/local/lib/python3.7/dist-packages/sklearn/linear_model/_coordinate_descent.py:472: UserWarning: Coordinate descent with alpha=0 may lead to unexpected results and is discouraged.\n",
            "  tol, rng, random, positive)\n",
            "/usr/local/lib/python3.7/dist-packages/sklearn/linear_model/_coordinate_descent.py:472: ConvergenceWarning: Objective did not converge. You might want to increase the number of iterations. Duality gap: 3497173.291045904, tolerance: 91239.67228375612\n",
            "  tol, rng, random, positive)\n",
            "/usr/local/lib/python3.7/dist-packages/sklearn/linear_model/_coordinate_descent.py:472: ConvergenceWarning: Objective did not converge. You might want to increase the number of iterations. Duality gap: 3382829.599221945, tolerance: 88447.73795499998\n",
            "  tol, rng, random, positive)\n"
          ],
          "name": "stderr"
        },
        {
          "output_type": "stream",
          "text": [
            "alpha: 0.280000\n",
            "133.17114307528516\n",
            "0.9902548069100595\n",
            "139.1294569851688\n",
            "0.9897140826668444\n"
          ],
          "name": "stdout"
        },
        {
          "output_type": "stream",
          "text": [
            "/usr/local/lib/python3.7/dist-packages/sklearn/linear_model/_coordinate_descent.py:472: UserWarning: Coordinate descent with alpha=0 may lead to unexpected results and is discouraged.\n",
            "  tol, rng, random, positive)\n",
            "/usr/local/lib/python3.7/dist-packages/sklearn/linear_model/_coordinate_descent.py:472: ConvergenceWarning: Objective did not converge. You might want to increase the number of iterations. Duality gap: 3662675.6503208876, tolerance: 87138.13686858091\n",
            "  tol, rng, random, positive)\n",
            "/usr/local/lib/python3.7/dist-packages/sklearn/linear_model/_coordinate_descent.py:472: UserWarning: Coordinate descent with alpha=0 may lead to unexpected results and is discouraged.\n",
            "  tol, rng, random, positive)\n",
            "/usr/local/lib/python3.7/dist-packages/sklearn/linear_model/_coordinate_descent.py:472: ConvergenceWarning: Objective did not converge. You might want to increase the number of iterations. Duality gap: 3653911.3254954815, tolerance: 88449.06298995399\n",
            "  tol, rng, random, positive)\n"
          ],
          "name": "stderr"
        }
      ]
    },
    {
      "cell_type": "code",
      "metadata": {
        "id": "Jdv7dcHXIl64",
        "colab": {
          "base_uri": "https://localhost:8080/"
        },
        "outputId": "0a094218-9e65-4881-813a-a27d34fe58c6"
      },
      "source": [
        "from google.colab import drive\n",
        "drive.mount('/content/drive')"
      ],
      "execution_count": 27,
      "outputs": [
        {
          "output_type": "stream",
          "text": [
            "Drive already mounted at /content/drive; to attempt to forcibly remount, call drive.mount(\"/content/drive\", force_remount=True).\n"
          ],
          "name": "stdout"
        }
      ]
    }
  ]
}